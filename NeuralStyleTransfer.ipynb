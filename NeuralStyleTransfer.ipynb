{
 "cells": [
  {
   "cell_type": "code",
   "execution_count": 68,
   "id": "97d47418-16e8-4db7-82a1-182384ac1bd8",
   "metadata": {},
   "outputs": [],
   "source": [
    "import tensorflow as tf\n",
    "import numpy as np\n",
    "import matplotlib.pyplot as plt"
   ]
  },
  {
   "cell_type": "code",
   "execution_count": 132,
   "id": "ccae7ff0-7a58-4db7-a698-b336ddeabfd0",
   "metadata": {},
   "outputs": [
    {
     "data": {
      "text/plain": [
       "[<InputLayer name=input_layer_2, built=True>,\n",
       " <Conv2D name=block1_conv1, built=True>,\n",
       " <Conv2D name=block1_conv2, built=True>,\n",
       " <MaxPooling2D name=block1_pool, built=True>,\n",
       " <Conv2D name=block2_conv1, built=True>,\n",
       " <Conv2D name=block2_conv2, built=True>,\n",
       " <MaxPooling2D name=block2_pool, built=True>,\n",
       " <Conv2D name=block3_conv1, built=True>,\n",
       " <Conv2D name=block3_conv2, built=True>,\n",
       " <Conv2D name=block3_conv3, built=True>,\n",
       " <Conv2D name=block3_conv4, built=True>,\n",
       " <MaxPooling2D name=block3_pool, built=True>,\n",
       " <Conv2D name=block4_conv1, built=True>,\n",
       " <Conv2D name=block4_conv2, built=True>,\n",
       " <Conv2D name=block4_conv3, built=True>,\n",
       " <Conv2D name=block4_conv4, built=True>,\n",
       " <MaxPooling2D name=block4_pool, built=True>,\n",
       " <Conv2D name=block5_conv1, built=True>,\n",
       " <Conv2D name=block5_conv2, built=True>,\n",
       " <Conv2D name=block5_conv3, built=True>,\n",
       " <Conv2D name=block5_conv4, built=True>,\n",
       " <MaxPooling2D name=block5_pool, built=True>,\n",
       " <Flatten name=flatten, built=True>,\n",
       " <Dense name=fc1, built=True>,\n",
       " <Dense name=fc2, built=True>,\n",
       " <Dense name=predictions, built=True>]"
      ]
     },
     "execution_count": 132,
     "metadata": {},
     "output_type": "execute_result"
    }
   ],
   "source": [
    "model = tf.keras.applications.VGG19(\n",
    "    include_top=True,\n",
    "    weights='imagenet',\n",
    "    input_tensor=None,\n",
    "    input_shape=None,\n",
    "    pooling=None,\n",
    "    classes=1000,\n",
    "    classifier_activation='softmax'\n",
    ")\n",
    "model.layers"
   ]
  },
  {
   "cell_type": "code",
   "execution_count": 8,
   "id": "4b420032-265e-4069-ba14-1f621bb7cad3",
   "metadata": {},
   "outputs": [],
   "source": [
    "# def content_loss(a_c , a_g):\n",
    "#     cost = 1/2*(tf.square(a_c-a_g))\n",
    "#     return cost"
   ]
  },
  {
   "cell_type": "code",
   "execution_count": 12,
   "id": "f927414b-dba6-4445-a49c-af771f36223b",
   "metadata": {},
   "outputs": [],
   "source": [
    "# def style_loss(a_s,a_g):\n",
    "#     G_s = np.zeros((a_s.shape[1],a_g.shape[1],3)) "
   ]
  },
  {
   "cell_type": "code",
   "execution_count": 180,
   "id": "07f0f692-9180-48d5-b4e8-9641c5d94004",
   "metadata": {},
   "outputs": [],
   "source": [
    "from tensorflow.keras.utils import load_img\n",
    "img = load_img('test.png',target_size = (224,224))"
   ]
  },
  {
   "cell_type": "code",
   "execution_count": 181,
   "id": "3b1d5a38-4a41-4ffe-a015-29b498439c77",
   "metadata": {
    "scrolled": true
   },
   "outputs": [
    {
     "data": {
      "text/plain": [
       "<tf.Tensor: shape=(1, 224, 224, 3), dtype=uint8, numpy=\n",
       "array([[[[152, 139, 132],\n",
       "         [152, 139, 132],\n",
       "         [152, 139, 132],\n",
       "         ...,\n",
       "         [158, 145, 138],\n",
       "         [152, 139, 132],\n",
       "         [152, 139, 132]],\n",
       "\n",
       "        [[152, 139, 132],\n",
       "         [152, 139, 132],\n",
       "         [152, 139, 132],\n",
       "         ...,\n",
       "         [152, 139, 132],\n",
       "         [152, 139, 132],\n",
       "         [152, 139, 132]],\n",
       "\n",
       "        [[152, 139, 132],\n",
       "         [152, 139, 132],\n",
       "         [152, 139, 132],\n",
       "         ...,\n",
       "         [152, 139, 132],\n",
       "         [152, 139, 132],\n",
       "         [152, 139, 132]],\n",
       "\n",
       "        ...,\n",
       "\n",
       "        [[152, 139, 132],\n",
       "         [152, 139, 132],\n",
       "         [152, 139, 132],\n",
       "         ...,\n",
       "         [152, 139, 132],\n",
       "         [152, 139, 132],\n",
       "         [152, 139, 132]],\n",
       "\n",
       "        [[152, 139, 132],\n",
       "         [152, 139, 132],\n",
       "         [152, 139, 132],\n",
       "         ...,\n",
       "         [152, 139, 132],\n",
       "         [152, 139, 132],\n",
       "         [152, 139, 132]],\n",
       "\n",
       "        [[152, 139, 132],\n",
       "         [152, 139, 132],\n",
       "         [152, 139, 132],\n",
       "         ...,\n",
       "         [152, 139, 132],\n",
       "         [152, 139, 132],\n",
       "         [152, 139, 132]]]], dtype=uint8)>"
      ]
     },
     "execution_count": 181,
     "metadata": {},
     "output_type": "execute_result"
    }
   ],
   "source": [
    "img = tf.expand_dims(img,axis = 0)\n",
    "img = tf.constant(img)\n",
    "img = tf.keras.applications.vgg19.preprocess_input(img)\n",
    "img"
   ]
  },
  {
   "cell_type": "code",
   "execution_count": 52,
   "id": "10284abe-03be-47a8-94ed-07fa424deafa",
   "metadata": {},
   "outputs": [
    {
     "data": {
      "text/plain": [
       "526"
      ]
     },
     "execution_count": 52,
     "metadata": {},
     "output_type": "execute_result"
    }
   ],
   "source": [
    "np.argmax(tf.keras.layers.Activation('softmax')(model(img)))"
   ]
  },
  {
   "cell_type": "code",
   "execution_count": 56,
   "id": "89309c18-376e-42bc-8cbb-26b139881ef0",
   "metadata": {},
   "outputs": [
    {
     "name": "stdout",
     "output_type": "stream",
     "text": [
      "\u001b[1m1/1\u001b[0m \u001b[32m━━━━━━━━━━━━━━━━━━━━\u001b[0m\u001b[37m\u001b[0m \u001b[1m0s\u001b[0m 243ms/step\n",
      "desk 0.42644024\n",
      "binder 0.092776746\n",
      "scale 0.043541472\n",
      "balance_beam 0.03041332\n",
      "parallel_bars 0.023885362\n"
     ]
    }
   ],
   "source": [
    "from tensorflow.keras.applications.vgg19 import decode_predictions, VGG19, preprocess_input\n",
    "import numpy as np\n",
    "\n",
    "preds = model.predict(img)  \n",
    "decoded = decode_predictions(preds, top=5)[0] \n",
    "for _, class_name, score in decoded:\n",
    "    print(class_name, score)"
   ]
  },
  {
   "cell_type": "code",
   "execution_count": 152,
   "id": "884319dc-24ba-4868-935e-42ee6f3a3d1e",
   "metadata": {},
   "outputs": [],
   "source": [
    "submodel = tf.keras.Model(inputs=model.input , outputs = model.get_layer(\"block2_conv2\").output)\n",
    "submodeldeep = tf.keras.Model(inputs=model.input , outputs = model.get_layer(\"block4_conv3\").output)"
   ]
  },
  {
   "cell_type": "code",
   "execution_count": 153,
   "id": "1e41c8f9-d154-47cd-8167-3dabe9a2c7e4",
   "metadata": {},
   "outputs": [
    {
     "name": "stdout",
     "output_type": "stream",
     "text": [
      "99 49 45\n"
     ]
    }
   ],
   "source": [
    "pred = submodel(img)\n",
    "pred_np = pred[0].numpy()\n",
    "actmax = np.max(pred[0])\n",
    "maxi, maxy, maxj = np.unravel_index(np.argmax(pred_np), pred_np.shape)\n",
    "print(maxi,maxy,maxj)\n",
    "# plt.imshow(pred.numpy()[0,i,y,j])\n",
    "# submodel(img)"
   ]
  },
  {
   "cell_type": "code",
   "execution_count": 154,
   "id": "c4fcd0d0-73c5-4b40-9513-c4ad038ab5e5",
   "metadata": {},
   "outputs": [
    {
     "name": "stdout",
     "output_type": "stream",
     "text": [
      "10 14 46 (28, 28, 512)\n"
     ]
    }
   ],
   "source": [
    "predDeep = submodeldeep(img)\n",
    "pred_np_deep = predDeep[0].numpy()\n",
    "actmax = np.max(predDeep[0])\n",
    "maxi_deep, maxy_deep, maxj_deep = np.unravel_index(np.argmax(pred_np_deep), pred_np_deep.shape)\n",
    "print(maxi_deep,maxy_deep,maxj_deep,pred_np_deep.shape)\n",
    "# plt.imshow(pred.numpy()[0,i,y,j])\n",
    "# submodel(img)"
   ]
  },
  {
   "cell_type": "code",
   "execution_count": 155,
   "id": "e8ca8861-b9e6-4965-98d3-de7d5bc0c478",
   "metadata": {},
   "outputs": [
    {
     "data": {
      "text/plain": [
       "<matplotlib.image.AxesImage at 0x74c5cd19df10>"
      ]
     },
     "execution_count": 155,
     "metadata": {},
     "output_type": "execute_result"
    },
    {
     "data": {
      "image/png": "[encoded data removed]",
      "text/plain": [
       "<Figure size 640x480 with 1 Axes>"
      ]
     },
     "metadata": {},
     "output_type": "display_data"
    }
   ],
   "source": [
    "plt.imshow(pred.numpy()[0,:,:,1])"
   ]
  },
  {
   "cell_type": "code",
   "execution_count": 156,
   "id": "6aa68274-2c28-4a75-8642-e603a8c88c24",
   "metadata": {},
   "outputs": [
    {
     "data": {
      "text/plain": [
       "<matplotlib.image.AxesImage at 0x74c5cd029d60>"
      ]
     },
     "execution_count": 156,
     "metadata": {},
     "output_type": "execute_result"
    },
    {
     "data": {
      "image/png": "[encoded data removed]",
      "text/plain": [
       "<Figure size 640x480 with 1 Axes>"
      ]
     },
     "metadata": {},
     "output_type": "display_data"
    }
   ],
   "source": [
    "plt.imshow(predDeep.numpy()[0,:,:,1])"
   ]
  },
  {
   "cell_type": "code",
   "execution_count": 157,
   "id": "d0ef5b2a-14e6-4ff3-a72c-374010a3ea56",
   "metadata": {},
   "outputs": [
    {
     "data": {
      "image/png": "[encoded data removed]",
      "text/plain": [
       "<Figure size 640x480 with 2 Axes>"
      ]
     },
     "metadata": {},
     "output_type": "display_data"
    }
   ],
   "source": [
    "x_center, y_center = 99, 45  # example coordinates\n",
    "patch_size = 50  # size of the square crop (e.g., 32x32)\n",
    "\n",
    "# Calculate the cropping boundaries, making sure you don't go out of image bounds\n",
    "x_start = max(x_center - patch_size // 2, 0)\n",
    "x_end = min(x_center + patch_size // 2, img.shape[0])\n",
    "y_start = max(y_center - patch_size // 2, 0)\n",
    "y_end = min(y_center + patch_size // 2, img.shape[1])\n",
    "\n",
    "# Crop the patch from the input image\n",
    "patch = pred_np[x_center-15:x_center+15, y_center-15:y_center+15, 90]\n",
    "\n",
    "# Display the patch\n",
    "plt.imshow(patch, cmap='viridis')\n",
    "plt.colorbar()\n",
    "plt.show()\n",
    "\n"
   ]
  },
  {
   "cell_type": "code",
   "execution_count": 182,
   "id": "d074af9b-3bc4-4cd7-9c3a-e03a76a19ab9",
   "metadata": {},
   "outputs": [],
   "source": [
    "img1 = load_img(\"style.jpg\" , target_size = (224,224))\n",
    "img2 = load_img(\"content.jpg\" , target_size = (224,224))\n",
    "img1 = tf.expand_dims(img1,axis = 0)\n",
    "img1 = tf.constant(img1)\n",
    "styleImg = tf.keras.applications.vgg19.preprocess_input(img)\n",
    "img2 = tf.expand_dims(img2,axis = 0)\n",
    "img2 = tf.constant(img2)\n",
    "contentImg = tf.keras.applications.vgg19.preprocess_input(img)"
   ]
  },
  {
   "cell_type": "code",
   "execution_count": 184,
   "id": "5e69e0f4-1e19-434a-b05c-c2baa8c8555c",
   "metadata": {},
   "outputs": [],
   "source": [
    "generatedImg = tf.constant(tf.zeros(styleImg.shape))"
   ]
  },
  {
   "cell_type": "code",
   "execution_count": 187,
   "id": "0ac8bf72-553a-40b4-bf1e-754e4aca8cab",
   "metadata": {},
   "outputs": [
    {
     "name": "stdout",
     "output_type": "stream",
     "text": [
      "(1, 224, 224, 3)\n",
      "(1, 224, 224, 3)\n",
      "(1, 224, 224, 3)\n"
     ]
    }
   ],
   "source": [
    "print(generatedImg.shape)\n",
    "print(styleImg.shape)\n",
    "print(contentImg.shape)    "
   ]
  },
  {
   "cell_type": "code",
   "execution_count": 199,
   "id": "c72b94c4-e9b5-4c14-8700-31dc21024864",
   "metadata": {},
   "outputs": [
    {
     "data": {
      "text/plain": [
       "TensorShape([1, 28, 28, 512])"
      ]
     },
     "execution_count": 199,
     "metadata": {},
     "output_type": "execute_result"
    }
   ],
   "source": [
    "a_s = submodeldeep(styleImg)\n",
    "a_g = submodeldeep(generatedImg)\n",
    "a_s.shape"
   ]
  },
  {
   "cell_type": "code",
   "execution_count": 273,
   "id": "216d21c1-7a15-46ab-80a3-9f1bee8c1fc5",
   "metadata": {},
   "outputs": [],
   "source": [
    "def grahm_matrices(a_s,a_g):\n",
    "    i , j , k = a_s.shape[1] , a_s.shape[2] , a_s.shape[3]    \n",
    "    grahm_matrix_as = np.zeros((k,k))\n",
    "    grahm_matrix_ag = np.zeros((k,k))\n",
    "    for channel in range(k):\n",
    "        for channel2 in range(k):\n",
    "            grahm_matrix_as[channel,channel2] =  np.sum(a_s[:,:,:,channel]*a_s[:,:,:,channel2])\n",
    "            grahm_matrix_ag[channel,channel2] =  np.sum(a_g[:,:,:,channel]*a_g[:,:,:,channel2])\n",
    "    grahm_matrix_as = tf.constant(grahm_matrix_as,dtype = tf.float32)    \n",
    "    grahm_matrix_ag = tf.constant(grahm_matrix_ag,dtype = tf.float32)                                                                      \n",
    "    return grahm_matrix_as , grahm_matrix_ag\n",
    "grahm_matrix_as , grahm_matrix_ag = grahm_matrices(a_s,a_g)"
   ]
  },
  {
   "cell_type": "code",
   "execution_count": 261,
   "id": "68380190-c07c-4c53-ac0d-f996e93e974e",
   "metadata": {},
   "outputs": [
    {
     "name": "stdout",
     "output_type": "stream",
     "text": [
      "[[4.0710788e+07 2.7445866e+07 1.0113382e+07 ... 5.3581815e+06\n",
      "  8.5913169e+05 1.7462194e+05]\n",
      " [2.7445866e+07 9.5471834e+08 1.3491381e+08 ... 2.1895046e+07\n",
      "  2.5024855e+06 1.6333220e+07]\n",
      " [1.0113382e+07 1.3491381e+08 4.1016726e+08 ... 8.5696688e+05\n",
      "  2.4562375e+06 6.4451700e+06]\n",
      " ...\n",
      " [5.3581815e+06 2.1895046e+07 8.5696688e+05 ... 1.5404383e+07\n",
      "  0.0000000e+00 1.9267867e+04]\n",
      " [8.5913169e+05 2.5024855e+06 2.4562375e+06 ... 0.0000000e+00\n",
      "  1.6959318e+06 2.3077409e+05]\n",
      " [1.7462194e+05 1.6333220e+07 6.4451700e+06 ... 1.9267867e+04\n",
      "  2.3077409e+05 1.6453154e+07]]\n"
     ]
    }
   ],
   "source": [
    "def grahm_matrices_vectorized(a_a):\n",
    "    b , i , j , k =  a_a.shape[0] , a_a.shape[1] , a_a.shape[2] , a_a.shape[3]    \n",
    "    grahm_matrix = tf.zeros(k,k)\n",
    "    X = tf.reshape(a_a , (b,i*j,k))\n",
    "    grahm_matrix = np.dot(X[0,:,:].T,X[0,:,:])\n",
    "    return grahm_matrix\n",
    "grahm_matrix_as_vec  = grahm_matrices_vectorized(a_s)\n",
    "grahm_matrix_ag_vec = grahm_matrices_vectorized(a_g)\n",
    "print(grahm_matrix_as_vec)"
   ]
  },
  {
   "cell_type": "code",
   "execution_count": 274,
   "id": "84ecb22e-9733-4bf5-9148-c04f5ce9b064",
   "metadata": {},
   "outputs": [
    {
     "data": {
      "text/plain": [
       "array([[4.0710788e+07, 2.7445868e+07, 1.0113382e+07, ..., 5.3581815e+06,\n",
       "        8.5913175e+05, 1.7462192e+05],\n",
       "       [2.7445868e+07, 9.5471821e+08, 1.3491381e+08, ..., 2.1895044e+07,\n",
       "        2.5024852e+06, 1.6333222e+07],\n",
       "       [1.0113382e+07, 1.3491381e+08, 4.1016730e+08, ..., 8.5696688e+05,\n",
       "        2.4562375e+06, 6.4451690e+06],\n",
       "       ...,\n",
       "       [5.3581815e+06, 2.1895044e+07, 8.5696688e+05, ..., 1.5404382e+07,\n",
       "        0.0000000e+00, 1.9267867e+04],\n",
       "       [8.5913175e+05, 2.5024852e+06, 2.4562375e+06, ..., 0.0000000e+00,\n",
       "        1.6959316e+06, 2.3077409e+05],\n",
       "       [1.7462192e+05, 1.6333222e+07, 6.4451690e+06, ..., 1.9267867e+04,\n",
       "        2.3077409e+05, 1.6453153e+07]], dtype=float32)"
      ]
     },
     "execution_count": 274,
     "metadata": {},
     "output_type": "execute_result"
    }
   ],
   "source": [
    "grahm_matrix_as.numpy()"
   ]
  }
 ],
 "metadata": {
  "kernelspec": {
   "display_name": "Python 3 (ipykernel)",
   "language": "python",
   "name": "python3"
  },
  "language_info": {
   "codemirror_mode": {
    "name": "ipython",
    "version": 3
   },
   "file_extension": ".py",
   "mimetype": "text/x-python",
   "name": "python",
   "nbconvert_exporter": "python",
   "pygments_lexer": "ipython3",
   "version": "3.12.2"
  }
 },
 "nbformat": 4,
 "nbformat_minor": 5
}
